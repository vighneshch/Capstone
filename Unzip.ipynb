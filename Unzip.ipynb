{
 "cells": [
  {
   "cell_type": "code",
   "execution_count": 5,
   "id": "2624e5b8-4102-4057-8989-fa40dbb56511",
   "metadata": {},
   "outputs": [],
   "source": [
    "#Importing the necesary libraries\n",
    "\n",
    "import os\n",
    "from pathlib import Path\n",
    "from zipfile import ZipFile"
   ]
  },
  {
   "cell_type": "code",
   "execution_count": 6,
   "id": "b210fd38-3634-46ad-be30-7e133c78b720",
   "metadata": {},
   "outputs": [
    {
     "data": {
      "text/plain": [
       "'D:\\\\DataScience\\\\Term 3\\\\2.Capstone\\\\1.ResumeGPT'"
      ]
     },
     "execution_count": 6,
     "metadata": {},
     "output_type": "execute_result"
    }
   ],
   "source": [
    "#Current Working Directory\n",
    "os.getcwd()"
   ]
  },
  {
   "cell_type": "code",
   "execution_count": 10,
   "id": "26d9062f-1510-4a4b-9a3d-54fe3e62169e",
   "metadata": {},
   "outputs": [],
   "source": [
    "def extract_pdf_from_zip(zip_file):\n",
    "\n",
    "    folder_path = Path(r'D:\\DataScience\\Term 3\\2.Capstone\\1.ResumeGPT\\PDFs')\n",
    "    \n",
    "    print(\"Received the file..\")\n",
    "    \n",
    "    with ZipFile(zip_file,'r') as zip_file:\n",
    "        print(\"Unzipping the file...\")\n",
    "        zip_file.extractall(folder_path)\n",
    "        print(\"Unzipped the file...\")"
   ]
  },
  {
   "cell_type": "code",
   "execution_count": 11,
   "id": "82a602ed-9888-452f-8a5a-1dfd02d6b371",
   "metadata": {},
   "outputs": [
    {
     "name": "stdout",
     "output_type": "stream",
     "text": [
      "Received the file..\n",
      "Unzipping the file...\n",
      "Unzipped the file...\n"
     ]
    }
   ],
   "source": [
    "extract_pdf_from_zip('SRS Travels and Logistics Private Limited - Book Online Bus Tickets To Your Destinations._.zip')"
   ]
  },
  {
   "cell_type": "code",
   "execution_count": 9,
   "id": "2209311d-a064-4fb1-8870-e47073484885",
   "metadata": {},
   "outputs": [
    {
     "name": "stdout",
     "output_type": "stream",
     "text": [
      "Received the file..\n",
      "Unzipping the file...\n",
      "Unzipped the file...\n"
     ]
    }
   ],
   "source": [
    "extract_pdf_from_zip('SRS Travels and Logistics Private Limited - Book Online Bus Tickets To Your Destinations._.zip')"
   ]
  },
  {
   "cell_type": "code",
   "execution_count": null,
   "id": "a1be31cb-3710-47cb-8a3f-9b3cac599695",
   "metadata": {},
   "outputs": [],
   "source": []
  }
 ],
 "metadata": {
  "kernelspec": {
   "display_name": "Python 3 (ipykernel)",
   "language": "python",
   "name": "python3"
  },
  "language_info": {
   "codemirror_mode": {
    "name": "ipython",
    "version": 3
   },
   "file_extension": ".py",
   "mimetype": "text/x-python",
   "name": "python",
   "nbconvert_exporter": "python",
   "pygments_lexer": "ipython3",
   "version": "3.11.5"
  }
 },
 "nbformat": 4,
 "nbformat_minor": 5
}
